{
 "cells": [
  {
   "cell_type": "code",
   "execution_count": 2,
   "metadata": {},
   "outputs": [
    {
     "name": "stdout",
     "output_type": "stream",
     "text": [
      "Hello, World! \n"
     ]
    }
   ],
   "source": [
    "#include <stdio.h>\n",
    "#include <stdlib.h>\n",
    "#include <string.h>\n",
    "\n",
    "// 字典结构\n",
    "typedef struct{\n",
    "    char** seq;\n",
    "    int* code;\n",
    "    int size;\n",
    "    int max_size;\n",
    "}Dictionary;\n",
    "\n",
    "//插入字典\n",
    "void insert_seq(Dictionary* dict, char* seq){\n",
    "    int i = dict->size;\n",
    "    dict->seq[i] = malloc(sizeof(char) * strlen(seq) + 1);\n",
    "    dict->code[i] = i;\n",
    "    dict->size++;\n",
    "    strcpy(dict->seq[i], seq);\n",
    "}\n",
    "\n",
    "void init_dictionary(){\n",
    "    printf(\"todo\");\n",
    "}\n",
    "\n",
    "int main()\n",
    "{\n",
    "    printf(\"Hello, World! \\n\");\n",
    "    return 0;\n",
    "}"
   ]
  },
  {
   "cell_type": "code",
   "execution_count": null,
   "metadata": {
    "collapsed": true
   },
   "outputs": [],
   "source": []
  }
 ],
 "metadata": {
  "kernelspec": {
   "display_name": "C",
   "language": "c",
   "name": "c"
  },
  "language_info": {
   "file_extension": ".c",
   "mimetype": "text/plain",
   "name": "c"
  }
 },
 "nbformat": 4,
 "nbformat_minor": 2
}
